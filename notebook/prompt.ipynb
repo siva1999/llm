{
 "cells": [
  {
   "cell_type": "code",
   "execution_count": 2,
   "metadata": {},
   "outputs": [
    {
     "name": "stdout",
     "output_type": "stream",
     "text": [
      "Princess Isabella was born into a privileged family. Her parents, King Alexander and Queen Isabella, were passionate about protecting their kingdom. The family lived in a luxurious palace where King Alexander held great political power. Queen Isabella, on the other hand, was a humble princess who loved to wander the countryside. She often went to the nearby streams and discovered interesting trees. In the forest, she found a magical frog. The frog was called the True King, and he wanted to help the princess, so he set out with his friend Prince Edward to search for the truth behind the frog. The prince and princess spent their time learning the facts of the True King, and they had some great adventures that left them both feeling pampered and happy. As they found more information about the True King, Prince Edward was drawn to him. He was interested in the adventure and the magic that the True King possessed. While Prince Edward was fascinated by the forest, he was in awe of his friend. He admired his friends for the adventure and adventure that they had shared. The two princes embarked on a journey to the forest, and they found the frog, the True King. They began to learn the secrets of the True King, and they were sure that their journey would prove fruitful. They explored the forest and discovered many hidden treasures. They had even discovered that the True King was not a boy. The frog was found soaring from the trees, and the three discovered that he was a prince himself. They were excited, and they had to help the princess. They eventually stumbled upon the True King, and were greeted by a friendly family. The children of the True King had discovered that they were not a prince. The children praised the prince's courage, and the adults agreed that they could not help but betray them. They eventually learned the True King's true identity, and Prince Edward wished to help them along with the prince. He traveled to the forest and discovered the frog that had been protecting the kingdom for thousands of years. They decided to save the frog, and it was with his help that they traveled to the forest. Prince Edward was excited to meet the Prince, and the children and their parents were shocked to learn the truth behind the True King. The children of the True King\n"
     ]
    }
   ],
   "source": [
    "from transformers import AutoTokenizer, AutoModelForSeq2SeqLM, pipeline\n",
    "\n",
    "# Load the fine-tuned model and tokenizer\n",
    "model_path = '../model/fine-tuned-t5'\n",
    "tokenizer = AutoTokenizer.from_pretrained(model_path)\n",
    "model = AutoModelForSeq2SeqLM.from_pretrained(model_path)\n",
    "\n",
    "# Create a pipeline for text generation\n",
    "text2text_generator = pipeline('text2text-generation', model=model, tokenizer=tokenizer)\n",
    "\n",
    "# Define the prompt\n",
    "keywords = [\"prince\", \"frog\", \"trees\"]\n",
    "emotion = \"happy\"\n",
    "userpref = \"history\"\n",
    "num_characters = 3\n",
    "characters = [\n",
    "    {\"name\": \"Prince Alexander\", \"profession\": \"ruler and scholar\"},\n",
    "    {\"name\": \"Princess Isabella\", \"profession\": \"adventurous princess\"},\n",
    "    {\"name\": \"Prince Edward\", \"profession\": \"historian and childhood friend\"}\n",
    "]\n",
    "desc_caption = \"A prince, a princess, and a historian venture into an enchanted forest filled with ancient trees to find a magical frog that holds a secret to happiness.\"\n",
    "\n",
    "prompt = (\n",
    "    f\"Generate a story that evokes a {emotion} emotion. The story should feature a {keywords[0]}, a {keywords[1]}, and {keywords[2]}. \"\n",
    "    f\"Additionally, incorporate elements of {userpref} to enhance the narrative. \"\n",
    "    f\"Ensure the {userpref} aspects are seamlessly integrated and contribute to the overall {emotion} tone of the story. \"\n",
    "    f\"The story should include {num_characters} characters: \"\n",
    "    f\"Prince Alexander, a ruler and scholar; Princess Isabella, an adventurous princess; and Prince Edward, a historian and childhood friend. \"\n",
    "    f\"Description: {desc_caption}\"\n",
    ")\n",
    "\n",
    "\n",
    "\n",
    "# Generate the story\n",
    "generated_story = text2text_generator(prompt, max_length=512, do_sample=True, top_p=0.95, num_return_sequences=1)\n",
    "\n",
    "# Print the generated story\n",
    "print(generated_story[0]['generated_text'])"
   ]
  }
 ],
 "metadata": {
  "kernelspec": {
   "display_name": "Python 3",
   "language": "python",
   "name": "python3"
  },
  "language_info": {
   "codemirror_mode": {
    "name": "ipython",
    "version": 3
   },
   "file_extension": ".py",
   "mimetype": "text/x-python",
   "name": "python",
   "nbconvert_exporter": "python",
   "pygments_lexer": "ipython3",
   "version": "3.9.19"
  }
 },
 "nbformat": 4,
 "nbformat_minor": 2
}
