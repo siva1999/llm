{
 "cells": [
  {
   "cell_type": "markdown",
   "metadata": {},
   "source": [
    "## 1. Dataset : NLP-1K-Stories-Dataset-Genres-100"
   ]
  },
  {
   "cell_type": "code",
   "execution_count": 2,
   "metadata": {},
   "outputs": [
    {
     "data": {
      "text/html": [
       "<div>\n",
       "<style scoped>\n",
       "    .dataframe tbody tr th:only-of-type {\n",
       "        vertical-align: middle;\n",
       "    }\n",
       "\n",
       "    .dataframe tbody tr th {\n",
       "        vertical-align: top;\n",
       "    }\n",
       "\n",
       "    .dataframe thead th {\n",
       "        text-align: right;\n",
       "    }\n",
       "</style>\n",
       "<table border=\"1\" class=\"dataframe\">\n",
       "  <thead>\n",
       "    <tr style=\"text-align: right;\">\n",
       "      <th></th>\n",
       "      <th>id</th>\n",
       "      <th>title</th>\n",
       "      <th>story</th>\n",
       "      <th>genre</th>\n",
       "    </tr>\n",
       "  </thead>\n",
       "  <tbody>\n",
       "    <tr>\n",
       "      <th>0</th>\n",
       "      <td>457580</td>\n",
       "      <td>The Chronicles of the Cosmic Rift</td>\n",
       "      <td>In the year 2250, Earth had made significant s...</td>\n",
       "      <td>Science Fiction</td>\n",
       "    </tr>\n",
       "    <tr>\n",
       "      <th>1</th>\n",
       "      <td>297904</td>\n",
       "      <td>Eldoria's Enchanted Whispers</td>\n",
       "      <td>In a land far away, where the sun shone bright...</td>\n",
       "      <td>Fantasy</td>\n",
       "    </tr>\n",
       "    <tr>\n",
       "      <th>2</th>\n",
       "      <td>620436</td>\n",
       "      <td>Echoes of Whispered Shadows</td>\n",
       "      <td>Once upon a time, in a small, tranquil town ca...</td>\n",
       "      <td>Mystery</td>\n",
       "    </tr>\n",
       "    <tr>\n",
       "      <th>3</th>\n",
       "      <td>634687</td>\n",
       "      <td>Emerald Amulet Chronicles Revealed</td>\n",
       "      <td>Once upon a time in the 16th century, a small ...</td>\n",
       "      <td>Historical Adventure</td>\n",
       "    </tr>\n",
       "    <tr>\n",
       "      <th>4</th>\n",
       "      <td>513427</td>\n",
       "      <td>The Shadows of St. Augustine</td>\n",
       "      <td>In the sun-drenched coastal city of St. August...</td>\n",
       "      <td>Thriller</td>\n",
       "    </tr>\n",
       "  </tbody>\n",
       "</table>\n",
       "</div>"
      ],
      "text/plain": [
       "       id                               title  \\\n",
       "0  457580   The Chronicles of the Cosmic Rift   \n",
       "1  297904        Eldoria's Enchanted Whispers   \n",
       "2  620436         Echoes of Whispered Shadows   \n",
       "3  634687  Emerald Amulet Chronicles Revealed   \n",
       "4  513427        The Shadows of St. Augustine   \n",
       "\n",
       "                                               story                 genre  \n",
       "0  In the year 2250, Earth had made significant s...       Science Fiction  \n",
       "1  In a land far away, where the sun shone bright...               Fantasy  \n",
       "2  Once upon a time, in a small, tranquil town ca...               Mystery  \n",
       "3  Once upon a time in the 16th century, a small ...  Historical Adventure  \n",
       "4  In the sun-drenched coastal city of St. August...              Thriller  "
      ]
     },
     "execution_count": 2,
     "metadata": {},
     "output_type": "execute_result"
    }
   ],
   "source": [
    "import pickle\n",
    "import pandas as pd\n",
    "\n",
    "stories = pd.read_csv('../data/1k_stories_100_genre.csv')\n",
    "stories.head()"
   ]
  },
  {
   "cell_type": "code",
   "execution_count": 3,
   "metadata": {},
   "outputs": [
    {
     "name": "stdout",
     "output_type": "stream",
     "text": [
      "['Science Fiction', 'Fantasy', 'Mystery', 'Historical Adventure', 'Thriller', 'Historical Fiction', 'Adventure', 'Horror', 'Comedy', 'Crime', 'Dystopian', 'Cyberpunk', 'Steampunk', 'Post-Apocalyptic', 'Fairy Tale', 'Mythology', 'Western', 'War', 'Espionage', 'Superhero', 'Slice of Life', 'Magical Realism', 'Alternate History', 'Time Travel', 'Paranormal', 'Urban Fantasy', 'Satire', 'Political Drama', 'Coming-of-Age', 'Family Drama', 'Space Opera', 'Apocalyptic', 'Noir', 'Folklore', 'Legal Drama', 'Sports', 'Humor', 'Biographical', 'Psychological Thriller', 'Medical Drama', 'Historical Adventure', 'Disaster', 'Inspirational', 'Gothic', 'Experimental', 'Artistic Drama', 'Animal Fiction', 'Environmental', 'Techno-Thriller', 'Alternate Reality', 'Utopian', 'Mystery Comedy', 'Historical Romance', 'Space Western', 'Hard Science Fiction', 'Soft Science Fiction', 'Survival', 'Philosophical Fiction', 'Anthology', 'Futuristic', 'Religious Fiction', 'Military Fiction', 'Nautical Fiction', 'Alternate Dimension', 'Psychological Horror', 'Domestic Fiction', 'Coming-of-Middle-Age', 'Medical Mystery', 'Existential Drama', 'Detective Fiction', 'Workplace Drama', 'Spy Fiction', 'Technological Thriller', 'Romantic Fantasy', 'Time-Loop', 'Generation Gap', 'Political Satire', 'Supernatural Drama', 'Mythic Fiction', 'Evolutionary Fiction', 'Dreamlike', 'Philosophical Comedy', 'Supernatural Comedy', 'Animal Fantasy', 'Quantum Fiction', 'Multiverse', 'Artificial Intelligence', 'Mystery Thriller', 'Regency Romance', 'Space Thriller', 'Apocalyptic Comedy', 'Virtual Reality', 'Suburban Drama', 'Magical Girl', 'War Comedy', 'Space Exploration', 'Steampunk Fantasy', 'Noir Comedy', 'Social Commentary', 'Techno-Mystery']\n"
     ]
    }
   ],
   "source": [
    "with open('../data/story_genres.pkl', 'rb') as f:\n",
    "    story_genres = pickle.load(f)\n",
    "print(story_genres)"
   ]
  },
  {
   "cell_type": "code",
   "execution_count": 4,
   "metadata": {},
   "outputs": [
    {
     "data": {
      "text/plain": [
       "\"In a land far away, where the sun shone brighter and the grass was greener, there existed a magical forest known as Eldoria. This enchanted forest was home to creatures of all shapes and sizes, each with their own unique abilities and personalities. The forest was a place of beauty and wonder, with its vibrant colors and mystical aura.\\n\\n    The story begins with a young boy named Thorn, who had just turned twelve. Thorn lived with his grandfather in a small cottage near the edge of Eldoria. His parents had vanished under mysterious circumstances when he was a baby, and his grandfather was all he had left in the world.\\n\\n    Thorn's grandfather was a wise and knowledgeable man, a former adventurer who had once explored the depths of Eldoria. He had passed down many tales of the forest to Thorn, filling his head with stories of brave heroes and fearsome beasts. Thorn's favorite of these tales was about the legendary Sword of Eldoria, a weapon of unimaginable power that could grant its wielder the ability to control the very elements of nature.\\n\\n    One day, while exploring the forest with his grandfather, Thorn stumbled upon a hidden cave. Inside the cave, he discovered an ancient scroll that spoke of the Sword of Eldoria and its whereabouts. The scroll revealed that the sword was hidden deep within the forest, guarded by a fearsome creature called the Shadow Beast.\\n\\n    Thorn's heart swelled with excitement and determination as he read the scroll. He knew that he must find the Sword of Eldoria and use its power to protect Eldoria from the evil forces that threatened to destroy it. His grandfather, seeing the determination in his eyes, agreed to help him on his quest.\\n\\n    And so, the journey began. Thorn and his grandfather traversed through the treacherous terrain of Eldoria, facing many challenges along the way. They encountered a variety of creatures, some friendly and some not so friendly.\\n\\n    One day, while crossing a rickety bridge over a deep ravine, they encountered a group of goblins. The goblins, who had been tormenting the forest's inhabitants, demanded that Thorn and his grandfather hand over their belongings. Thorn, armed with only his wits and the knowledge passed down by his grandfather, managed to outsmart the goblins and send them fleeing in terror.\\n\\n    As they continued their journey, Thorn and his grandfather found an ally in a wise old owl named Ollivia. Ollivia had lived in Eldoria for centuries and possessed a wealth of knowledge about the forest and its many secrets. She agreed to help them on their quest, providing them with valuable information and guidance.\\n\\n    With Ollivia's help, Thorn and his grandfather discovered the entrance to the Shadow Beast's lair, hidden deep within a dense thicket. As they approached the lair, they were met with a series of riddles and puzzles that they had to solve in order to proceed.\\n\\n    Thorn's intellect and problem-solving skills were put to the test as he navigated through the lair, solving each riddle and puzzle that stood in their way. Along the way, he also had to face a variety of traps and obstacles, which he managed to overcome with his quick thinking and agility.\\n\\n    Finally, after overcoming all the obstacles and solving the final riddle, Thorn and his companions found themselves face-to-face with the Shadow Beast. The beast, a monstrous creature shrouded in darkness, towered over them and unleashed a torrent of shadowy tendrils that threatened to engulf them.\\n\\n    Thorn, realizing that his wits alone would not be enough to defeat the beast, summoned the courage within him and reached for the Sword of Eldoria, which lay on a pedestal at the heart of the lair. As soon as his fingers touched the hilt of the sword, a brilliant light erupted from the blade, driving the Shadow Beast back and filling Thorn with newfound power.\\n\\n    With the Sword of Eldoria in his grasp, Thorn faced the Shadow Beast in a fierce battle of wills. He fought with the skill and precision of a master swordsman, channeling the power of the elements through the sword to unleash a torrent of lightning, fire, and wind upon the beast.\\n\\n    The Shadow Beast, though formidable, was no match for Thorn's newfound power. As the beast's dark energy began to falter, Thorn struck the final blow, driving the sword through its heart and banishing it to the shadows.\\n\\n    With the Shadow Beast defeated, Thorn and his companions returned to Eldoria, where they were hailed as heroes. The Sword of Eldoria was no longer hidden, and its power could now be used to protect the forest from any evil that dared to threaten it.\\n\\n    Thorn, now a fully-fledged hero, continued to live in the cottage near the edge of Eldoria with his grandfather. Together, they embarked on many more adventures, using the Sword of Eldoria to maintain the balance of nature and keep the forest safe from harm.\\n\\n    And so, the legend of Thorn, the hero of Eldoria, spread throughout the land, inspiring countless others to follow in his footsteps and protect the world from the forces of darkness.\\n\\n    The End\\n\\n    Good Twist: In the end, it is revealed that Thorn's parents were actually adventurers who had been sent on a mission to protect Eldoria from an ancient prophecy of darkness that foretold the rise of the Shadow Beast. Thorn's journey had not only fulfilled the prophecy but also brought his parents back into his life, as they had been trapped in the Shadow Beast's lair all these years.\\n\\n    Bad Twist: As time went on, Thorn began to feel the burden of his heroic deeds and the power of the Sword of Eldoria. One day, while out on a quest, he was confronted by a malevolent sorcerer who sought to take control of the sword for his own nefarious purposes. In a moment of weakness, Thorn willingly handed over the sword, believing that it was no longer worth the sacrifices he had to make to protect Eldoria.\\n\\n    Suspenseful Twist: Years after the defeat of the Shadow Beast, a new evil emerged in the form of a powerful sorceress who sought to bring chaos to Eldoria. Thorn, now an old man, was forced to once again take up the Sword of Eldoria and face his greatest challenge yet. Alongside his grandson, who had inherited his wisdom and courage, Thorn defeated the sorceress and restored peace to Eldoria, proving that the spirit of the hero would never fade.\""
      ]
     },
     "execution_count": 4,
     "metadata": {},
     "output_type": "execute_result"
    }
   ],
   "source": [
    "stories['story'][1]"
   ]
  },
  {
   "cell_type": "markdown",
   "metadata": {},
   "source": [
    "Lets extract descriptive caption from the stories"
   ]
  },
  {
   "cell_type": "code",
   "execution_count": null,
   "metadata": {},
   "outputs": [],
   "source": []
  }
 ],
 "metadata": {
  "kernelspec": {
   "display_name": "Python 3",
   "language": "python",
   "name": "python3"
  },
  "language_info": {
   "codemirror_mode": {
    "name": "ipython",
    "version": 3
   },
   "file_extension": ".py",
   "mimetype": "text/x-python",
   "name": "python",
   "nbconvert_exporter": "python",
   "pygments_lexer": "ipython3",
   "version": "3.9.19"
  }
 },
 "nbformat": 4,
 "nbformat_minor": 2
}
